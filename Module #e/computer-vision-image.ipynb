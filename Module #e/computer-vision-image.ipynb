{
 "cells": [
  {
   "cell_type": "code",
   "execution_count": 2,
   "metadata": {},
   "outputs": [],
   "source": [
    "import cv2"
   ]
  },
  {
   "cell_type": "code",
   "execution_count": 3,
   "metadata": {},
   "outputs": [],
   "source": [
    "img = cv2.imread('cake.jpg', 0)"
   ]
  },
  {
   "cell_type": "code",
   "execution_count": 4,
   "metadata": {},
   "outputs": [],
   "source": [
    "cv2.imshow('CupCake Image - PRESS \\'q\\' to QUIT or \\'s\\' to SAVE', img)\n",
    "k = cv2.waitKey(0) # assigning keyboard key to a variable 'k'\n",
    "\n",
    "if k == ord('q'): # add \"& 0xFF\" for 64bits machines\n",
    "    cv2.destroyAllWindows() # this is to quit window\n",
    "elif k == ord('s'): # else if keyboard key = 's' then save and quit window\n",
    "    cv2.imwrite('cupcake.png', img) # this is to save img\n",
    "    cv2.destroyAllWindows() # this is to quit window"
   ]
  },
  {
   "cell_type": "code",
   "execution_count": 5,
   "metadata": {},
   "outputs": [],
   "source": [
    "#cv2.imwrite('cupcake.jpg', img)"
   ]
  }
 ],
 "metadata": {
  "kernelspec": {
   "display_name": "Python 3",
   "language": "python",
   "name": "python3"
  },
  "language_info": {
   "codemirror_mode": {
    "name": "ipython",
    "version": 3
   },
   "file_extension": ".py",
   "mimetype": "text/x-python",
   "name": "python",
   "nbconvert_exporter": "python",
   "pygments_lexer": "ipython3",
   "version": "3.7.3"
  }
 },
 "nbformat": 4,
 "nbformat_minor": 2
}
