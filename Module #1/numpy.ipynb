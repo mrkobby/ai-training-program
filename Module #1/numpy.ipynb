{
 "cells": [
  {
   "cell_type": "code",
   "execution_count": 2,
   "metadata": {},
   "outputs": [
    {
     "name": "stdout",
     "output_type": "stream",
     "text": [
      "[[0 1 2]\n",
      " [3 4 5]\n",
      " [6 7 8]]\n"
     ]
    }
   ],
   "source": [
    "import numpy as np\n",
    "\n",
    "#CREATING AN ARRAY OF NUMBERS IN A MATRIX FORM\n",
    "\n",
    "mat1 = np.array([ [0,1,2],[3,4,5],[6,7,8] ])\n",
    "\n",
    "print(mat1)"
   ]
  },
  {
   "cell_type": "code",
   "execution_count": 5,
   "metadata": {},
   "outputs": [
    {
     "name": "stdout",
     "output_type": "stream",
     "text": [
      "[[1 2 3]\n",
      " [4 5 6]\n",
      " [7 8 9]]\n"
     ]
    }
   ],
   "source": [
    "#CREATING A MATRIX WITH THE 'arange' FUNCTION\n",
    "\n",
    "x = np.arange(1,10)\n",
    "y = x.reshape(3,3)\n",
    "\n",
    "print(y)"
   ]
  },
  {
   "cell_type": "code",
   "execution_count": 16,
   "metadata": {},
   "outputs": [
    {
     "name": "stdout",
     "output_type": "stream",
     "text": [
      "[[1 2]\n",
      " [4 5]]\n",
      "\n",
      "\n",
      "[[ 7  8]\n",
      " [10 11]]\n",
      "\n",
      "\n",
      "[[27 30]\n",
      " [78 87]]\n",
      "\n",
      "\n",
      "[[ 7 16]\n",
      " [40 55]]\n"
     ]
    }
   ],
   "source": [
    "#ADDING AND MULTIPLYING MATRIX\n",
    "a = np.array([ [1,2],[4,5] ])\n",
    "b = np.array([ [7,8],[10,11] ])\n",
    "c = np.add(a,b)\n",
    "\n",
    "print(a)\n",
    "print('\\n')\n",
    "print(b) \n",
    "print('\\n')\n",
    "\n",
    "#print(c)\n",
    "#print('\\n')\n",
    "\n",
    "#THE SUM FUNCTION CAN BE USED TO ADD NUMBER IN 'A' MATRIX\n",
    "#print(sum(a))\n",
    "\n",
    "#MULTIPLICATION OF MATRIX\n",
    "print(np.dot(a,b))\n",
    "print('\\n')\n",
    "print(a*b)\n"
   ]
  },
  {
   "cell_type": "code",
   "execution_count": 18,
   "metadata": {},
   "outputs": [
    {
     "name": "stdout",
     "output_type": "stream",
     "text": [
      "[[1 2 3]\n",
      " [4 5 6]\n",
      " [7 8 9]]\n",
      "\n",
      "\n",
      "[3 6 9]\n"
     ]
    }
   ],
   "source": [
    "#GETTING PRECISE NUMBER FROM MATRIX\n",
    "\n",
    "es = np.array([ [1,2,3],[4,5,6],[7,8,9] ])\n",
    "print(es)\n",
    "print('\\n')\n",
    "\n",
    "print(es[:,2])"
   ]
  },
  {
   "cell_type": "code",
   "execution_count": 23,
   "metadata": {},
   "outputs": [
    {
     "name": "stdout",
     "output_type": "stream",
     "text": [
      "[[1 2 3]\n",
      " [4 5 6]]\n",
      "\n",
      "\n",
      "[[ True  True  True]\n",
      " [False False False]]\n"
     ]
    }
   ],
   "source": [
    "#CHECKING VALIDITY OF VALUES IN MATRIX\n",
    "ea = np.array([ [1,2,3],[4,5,6] ])\n",
    "print(ea)\n",
    "print('\\n')\n",
    "print(ea < 4)\n"
   ]
  },
  {
   "cell_type": "code",
   "execution_count": null,
   "metadata": {},
   "outputs": [],
   "source": []
  }
 ],
 "metadata": {
  "kernelspec": {
   "display_name": "Python 3",
   "language": "python",
   "name": "python3"
  },
  "language_info": {
   "codemirror_mode": {
    "name": "ipython",
    "version": 3
   },
   "file_extension": ".py",
   "mimetype": "text/x-python",
   "name": "python",
   "nbconvert_exporter": "python",
   "pygments_lexer": "ipython3",
   "version": "3.7.3"
  }
 },
 "nbformat": 4,
 "nbformat_minor": 2
}
