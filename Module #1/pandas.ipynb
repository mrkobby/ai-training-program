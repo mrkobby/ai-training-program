{
 "cells": [
  {
   "cell_type": "code",
   "execution_count": 2,
   "metadata": {},
   "outputs": [
    {
     "name": "stdout",
     "output_type": "stream",
     "text": [
      "Empty DataFrame\n",
      "Columns: []\n",
      "Index: []\n"
     ]
    }
   ],
   "source": [
    "import pandas as pd\n",
    "\n",
    "#--PANDAS IS USED FOR DATA MANIPULATION. BASICALLY ORDERING DATA INTO MEANING/READABLE FORM\n",
    "\n",
    "df = pd.DataFrame()\n",
    "\n",
    "print(df)"
   ]
  },
  {
   "cell_type": "code",
   "execution_count": 7,
   "metadata": {},
   "outputs": [
    {
     "name": "stdout",
     "output_type": "stream",
     "text": [
      "   0\n",
      "0  1\n",
      "1  2\n",
      "2  3\n",
      "3  4\n",
      "4  5\n"
     ]
    }
   ],
   "source": [
    "data = [1,2,3,4,5]\n",
    "df = pd.DataFrame(data)\n",
    "\n",
    "print(df)"
   ]
  },
  {
   "cell_type": "code",
   "execution_count": 8,
   "metadata": {
    "scrolled": false
   },
   "outputs": [
    {
     "name": "stdout",
     "output_type": "stream",
     "text": [
      "         0\n",
      "0   Andrew\n",
      "1     Kofi\n",
      "2     Fred\n",
      "3    Linda\n",
      "4  Kwabena\n",
      "5  Patrick\n"
     ]
    }
   ],
   "source": [
    "names = ['Andrew','Kofi','Fred','Linda','Kwabena','Patrick']\n",
    "dn = pd.DataFrame(names)\n",
    "\n",
    "print(dn)"
   ]
  },
  {
   "cell_type": "code",
   "execution_count": 17,
   "metadata": {},
   "outputs": [
    {
     "name": "stdout",
     "output_type": "stream",
     "text": [
      "      Name  Age\n",
      "a  Kwabena   23\n",
      "b     Lord   20\n",
      "c  Bernice   39\n",
      "d  Michael   18\n",
      "e    Issac   34\n"
     ]
    }
   ],
   "source": [
    "users = [ ['Kwabena',23],['Lord',20],['Bernice',39],['Michael',18],['Issac',34] ]\n",
    "#du = pd.DataFrame(users)\n",
    "\n",
    "#--YOU CAN CREATE NAME FOR COLUMNS USING THIS CODE\n",
    "#du = pd.DataFrame(users,columns=['Name','Age'])\n",
    "\n",
    "#--YOU CAN ALSO CHANGE INDEX OF THE DATAFRAME\n",
    "du = pd.DataFrame(users,columns=['Name','Age'],index=['a','b','c','d','e'])\n",
    "\n",
    "print(du)"
   ]
  },
  {
   "cell_type": "code",
   "execution_count": 27,
   "metadata": {},
   "outputs": [
    {
     "name": "stdout",
     "output_type": "stream",
     "text": [
      "     Names  Mark\n",
      "0   Andrew    65\n",
      "1     Kofi    76\n",
      "2     Fred     2\n",
      "3    Linda     4\n",
      "4  Kwabena     5\n",
      "5  Patrick     7\n"
     ]
    }
   ],
   "source": [
    "#--USING DICTIONRIES IN DATAFRAMES\n",
    "diction = {\n",
    "    'Names':['Andrew','Kofi','Fred','Linda','Kwabena','Patrick'],\n",
    "    'Mark':[65,76,2,4,5,7]\n",
    "}\n",
    "\n",
    "dd = pd.DataFrame(diction)\n",
    "\n",
    "print(dd)"
   ]
  },
  {
   "cell_type": "code",
   "execution_count": 31,
   "metadata": {},
   "outputs": [
    {
     "name": "stdout",
     "output_type": "stream",
     "text": [
      "0     Andrew\n",
      "1       Kofi\n",
      "2       Fred\n",
      "3      Linda\n",
      "4    Kwabena\n",
      "5    Patrick\n",
      "Name: Names, dtype: object\n"
     ]
    }
   ],
   "source": [
    "#--PRINTING JUST THE NAMES COLUMN\n",
    "print(dd['Names'])"
   ]
  },
  {
   "cell_type": "code",
   "execution_count": 50,
   "metadata": {},
   "outputs": [
    {
     "name": "stdout",
     "output_type": "stream",
     "text": [
      "0    65\n",
      "1    76\n",
      "2     2\n",
      "3     4\n",
      "4     5\n",
      "5     7\n",
      "Name: Mark, dtype: int64\n"
     ]
    }
   ],
   "source": [
    "#--PRINTING JUST THE MARK COLUMN\n",
    "print(dd['Mark'])"
   ]
  },
  {
   "cell_type": "code",
   "execution_count": 52,
   "metadata": {
    "scrolled": true
   },
   "outputs": [
    {
     "name": "stdout",
     "output_type": "stream",
     "text": [
      "     Names  Mark\n",
      "0   Andrew    65\n",
      "1     Kofi    76\n",
      "2     Fred     2\n",
      "3    Linda     4\n",
      "4  Kwabena     5\n",
      "5  Patrick     7\n"
     ]
    }
   ],
   "source": [
    "#--I JUST CREATED A NEW INSTANCE OF THE SAME DATAFRAME\n",
    "dw = pd.DataFrame(diction)\n",
    "print(dw)"
   ]
  },
  {
   "cell_type": "code",
   "execution_count": 55,
   "metadata": {},
   "outputs": [
    {
     "name": "stdout",
     "output_type": "stream",
     "text": [
      "     Names  Mark Grade\n",
      "0   Andrew    65     A\n",
      "1     Kofi    76     C\n",
      "2     Fred     2     D\n",
      "3    Linda     4     B\n",
      "4  Kwabena     5     B\n",
      "5  Patrick     7     A\n"
     ]
    }
   ],
   "source": [
    "#--ADDING A NEW COLUMN TO THE DATAFRAME\n",
    "dw['Grade'] = ['A','C','D','B','B','A']\n",
    "print(dw)"
   ]
  },
  {
   "cell_type": "code",
   "execution_count": 56,
   "metadata": {},
   "outputs": [
    {
     "name": "stdout",
     "output_type": "stream",
     "text": [
      "     Names  Mark Grade\n",
      "0   Andrew    65     A\n",
      "1     Kofi    76     C\n",
      "2     Fred     2     D\n",
      "3    Linda     4     B\n",
      "4  Kwabena     5     B\n",
      "5  Patrick     7     A\n"
     ]
    }
   ],
   "source": [
    "print(dw)"
   ]
  },
  {
   "cell_type": "code",
   "execution_count": 58,
   "metadata": {},
   "outputs": [
    {
     "data": {
      "text/plain": [
       "0    A\n",
       "1    C\n",
       "2    D\n",
       "3    B\n",
       "4    B\n",
       "5    A\n",
       "Name: Grade, dtype: object"
      ]
     },
     "execution_count": 58,
     "metadata": {},
     "output_type": "execute_result"
    }
   ],
   "source": [
    "dw.pop('Grade')"
   ]
  },
  {
   "cell_type": "code",
   "execution_count": 59,
   "metadata": {},
   "outputs": [
    {
     "name": "stdout",
     "output_type": "stream",
     "text": [
      "     Names Grade Grade  Mark Grade Grade Grade\n",
      "0   Andrew     B     B    65     B     B     B\n",
      "1     Kofi     E     E    76     E     E     E\n",
      "2     Fred     B     B     2     B     B     B\n",
      "3    Linda     A     A     4     A     A     A\n",
      "4  Kwabena     C     C     5     C     C     C\n",
      "5  Patrick     D     D     7     D     D     D\n"
     ]
    }
   ],
   "source": [
    "print(dd)"
   ]
  },
  {
   "cell_type": "code",
   "execution_count": 60,
   "metadata": {},
   "outputs": [
    {
     "data": {
      "text/html": [
       "<div>\n",
       "<style scoped>\n",
       "    .dataframe tbody tr th:only-of-type {\n",
       "        vertical-align: middle;\n",
       "    }\n",
       "\n",
       "    .dataframe tbody tr th {\n",
       "        vertical-align: top;\n",
       "    }\n",
       "\n",
       "    .dataframe thead th {\n",
       "        text-align: right;\n",
       "    }\n",
       "</style>\n",
       "<table border=\"1\" class=\"dataframe\">\n",
       "  <thead>\n",
       "    <tr style=\"text-align: right;\">\n",
       "      <th></th>\n",
       "      <th>Grade</th>\n",
       "      <th>Grade</th>\n",
       "      <th>Grade</th>\n",
       "      <th>Grade</th>\n",
       "      <th>Grade</th>\n",
       "    </tr>\n",
       "  </thead>\n",
       "  <tbody>\n",
       "    <tr>\n",
       "      <th>0</th>\n",
       "      <td>B</td>\n",
       "      <td>B</td>\n",
       "      <td>B</td>\n",
       "      <td>B</td>\n",
       "      <td>B</td>\n",
       "    </tr>\n",
       "    <tr>\n",
       "      <th>1</th>\n",
       "      <td>E</td>\n",
       "      <td>E</td>\n",
       "      <td>E</td>\n",
       "      <td>E</td>\n",
       "      <td>E</td>\n",
       "    </tr>\n",
       "    <tr>\n",
       "      <th>2</th>\n",
       "      <td>B</td>\n",
       "      <td>B</td>\n",
       "      <td>B</td>\n",
       "      <td>B</td>\n",
       "      <td>B</td>\n",
       "    </tr>\n",
       "    <tr>\n",
       "      <th>3</th>\n",
       "      <td>A</td>\n",
       "      <td>A</td>\n",
       "      <td>A</td>\n",
       "      <td>A</td>\n",
       "      <td>A</td>\n",
       "    </tr>\n",
       "    <tr>\n",
       "      <th>4</th>\n",
       "      <td>C</td>\n",
       "      <td>C</td>\n",
       "      <td>C</td>\n",
       "      <td>C</td>\n",
       "      <td>C</td>\n",
       "    </tr>\n",
       "    <tr>\n",
       "      <th>5</th>\n",
       "      <td>D</td>\n",
       "      <td>D</td>\n",
       "      <td>D</td>\n",
       "      <td>D</td>\n",
       "      <td>D</td>\n",
       "    </tr>\n",
       "  </tbody>\n",
       "</table>\n",
       "</div>"
      ],
      "text/plain": [
       "  Grade Grade Grade Grade Grade\n",
       "0     B     B     B     B     B\n",
       "1     E     E     E     E     E\n",
       "2     B     B     B     B     B\n",
       "3     A     A     A     A     A\n",
       "4     C     C     C     C     C\n",
       "5     D     D     D     D     D"
      ]
     },
     "execution_count": 60,
     "metadata": {},
     "output_type": "execute_result"
    }
   ],
   "source": [
    "dd.pop('Grade')"
   ]
  },
  {
   "cell_type": "code",
   "execution_count": 61,
   "metadata": {},
   "outputs": [
    {
     "name": "stdout",
     "output_type": "stream",
     "text": [
      "     Names  Mark\n",
      "0   Andrew    65\n",
      "1     Kofi    76\n",
      "2     Fred     2\n",
      "3    Linda     4\n",
      "4  Kwabena     5\n",
      "5  Patrick     7\n"
     ]
    }
   ],
   "source": [
    "print(dd)"
   ]
  },
  {
   "cell_type": "code",
   "execution_count": 62,
   "metadata": {},
   "outputs": [],
   "source": [
    "#--NOW I HAVE TWO(2) VARIABLES CONTAINING THE SAME DATAFRAME"
   ]
  },
  {
   "cell_type": "code",
   "execution_count": 66,
   "metadata": {},
   "outputs": [
    {
     "name": "stdout",
     "output_type": "stream",
     "text": [
      "Names    Kwabena\n",
      "Mark           5\n",
      "Name: 4, dtype: object\n"
     ]
    }
   ],
   "source": [
    "#--SELECTING FROM A DATAFRAME\n",
    "\n",
    "#-- 1. loc IS USED WITH CUSTOM INDEXES (a,b,c,e,..)\n",
    "#print(dd.loc['a'])\n",
    "\n",
    "#-- 2 iloc IS USED WITH THE DEFAULT INDEXES (1,2,3,..)\n",
    "print(dd.iloc[4])"
   ]
  },
  {
   "cell_type": "code",
   "execution_count": null,
   "metadata": {},
   "outputs": [],
   "source": []
  }
 ],
 "metadata": {
  "kernelspec": {
   "display_name": "Python 3",
   "language": "python",
   "name": "python3"
  },
  "language_info": {
   "codemirror_mode": {
    "name": "ipython",
    "version": 3
   },
   "file_extension": ".py",
   "mimetype": "text/x-python",
   "name": "python",
   "nbconvert_exporter": "python",
   "pygments_lexer": "ipython3",
   "version": "3.7.3"
  }
 },
 "nbformat": 4,
 "nbformat_minor": 2
}
