{
 "cells": [
  {
   "cell_type": "code",
   "execution_count": 28,
   "metadata": {},
   "outputs": [],
   "source": [
    "import cv2\n",
    "from tensorflow.keras.applications import inception_v3\n",
    "from tensorflow.keras.preprocessing import image\n",
    "import numpy as np"
   ]
  },
  {
   "cell_type": "code",
   "execution_count": 29,
   "metadata": {},
   "outputs": [],
   "source": [
    "model = inception_v3.InceptionV3(weights='imagenet')"
   ]
  },
  {
   "cell_type": "code",
   "execution_count": 30,
   "metadata": {},
   "outputs": [
    {
     "data": {
      "text/plain": [
       "[('n03180011', 'desktop_computer', 0.95286804),\n",
       " ('n03691459', 'loudspeaker', 0.009125553),\n",
       " ('n04041544', 'radio', 0.0032369606),\n",
       " ('n04152593', 'screen', 0.0031291107),\n",
       " ('n03782006', 'monitor', 0.0015553163)]"
      ]
     },
     "execution_count": 30,
     "metadata": {},
     "output_type": "execute_result"
    }
   ],
   "source": [
    "img = image.load_img('desktop.jpg', target_size=(299,299))\n",
    "img = image.img_to_array(img)\n",
    "img = np.expand_dims(img, axis=0)\n",
    "img = inception_v3.preprocess_input(img)\n",
    "\n",
    "prediction = model.predict(img)\n",
    "labels = inception_v3.decode_predictions(prediction, top=5)[0]\n",
    "labels"
   ]
  },
  {
   "cell_type": "code",
   "execution_count": 43,
   "metadata": {},
   "outputs": [],
   "source": [
    "cap = cv2.VideoCapture(0)\n",
    "\n",
    "while True:\n",
    "    check, frame = cap.read()\n",
    "    \n",
    "    roi = frame[75:400, 300:600]\n",
    "    \n",
    "    cv2.rectangle(frame, (300,75), (600, 400), (255,0,0), 2)\n",
    "    \n",
    "    roi = cv2.cvtColor(roi, cv2.COLOR_BGR2GRAY)\n",
    "    \n",
    "    cv2.imwrite('ima.jpg', roi)\n",
    "    \n",
    "    im = image.load_img('ima.jpg', target_size=(299,299))\n",
    "    \n",
    "    im = image.img_to_array(im)\n",
    "    \n",
    "    im = np.expand_dims(im, axis=0)\n",
    "    \n",
    "    im = inception_v3.preprocess_input(im)\n",
    "    \n",
    "    predictions = model.predict(im)\n",
    "    \n",
    "    result = inception_v3.decode_predictions(predictions)[0]\n",
    "    \n",
    "    label_name = result[0][1]\n",
    "    label_percentage = result[0][2] * 100\n",
    "    \n",
    "    cv2.putText(frame, label_name + ' - {0:.1f}'.format(label_percentage) + '%', (70,170), cv2.FONT_HERSHEY_COMPLEX, 0.6, (20,240,240), 2)\n",
    "    \n",
    "    cv2.imshow('Real time object recognition', frame)\n",
    "     \n",
    "    key = cv2.waitKey(1)\n",
    "    \n",
    "    if key == ord('q'):\n",
    "        break\n",
    "\n",
    "cap.release()\n",
    "cv2.destroyAllWindows()"
   ]
  },
  {
   "cell_type": "code",
   "execution_count": null,
   "metadata": {},
   "outputs": [],
   "source": []
  }
 ],
 "metadata": {
  "kernelspec": {
   "display_name": "Python 3",
   "language": "python",
   "name": "python3"
  },
  "language_info": {
   "codemirror_mode": {
    "name": "ipython",
    "version": 3
   },
   "file_extension": ".py",
   "mimetype": "text/x-python",
   "name": "python",
   "nbconvert_exporter": "python",
   "pygments_lexer": "ipython3",
   "version": "3.7.3"
  }
 },
 "nbformat": 4,
 "nbformat_minor": 2
}
