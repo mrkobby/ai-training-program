{
 "cells": [
  {
   "cell_type": "code",
   "execution_count": 1,
   "metadata": {},
   "outputs": [],
   "source": [
    "import numpy as np\n",
    "import pandas as pd\n",
    "import matplotlib.pyplot as plt"
   ]
  },
  {
   "cell_type": "code",
   "execution_count": 2,
   "metadata": {},
   "outputs": [],
   "source": [
    "#-- CREATING CUSTOM NAME FOR TABLE COLUMNS\n",
    "column_names = ['Country','Description','Designation','Points','Price','Province','Region_1','Region_2','Variety','Winery']"
   ]
  },
  {
   "cell_type": "code",
   "execution_count": 3,
   "metadata": {},
   "outputs": [],
   "source": [
    "#-- UPDATING COLUMN NAME WITH CUSTOM NAMES\n",
    "wine_analysis_data = pd.read_csv(\"winemag-data.csv\",sep=',',header=1,names=column_names,index_col=0)"
   ]
  },
  {
   "cell_type": "code",
   "execution_count": 4,
   "metadata": {},
   "outputs": [
    {
     "data": {
      "text/html": [
       "<div>\n",
       "<style scoped>\n",
       "    .dataframe tbody tr th:only-of-type {\n",
       "        vertical-align: middle;\n",
       "    }\n",
       "\n",
       "    .dataframe tbody tr th {\n",
       "        vertical-align: top;\n",
       "    }\n",
       "\n",
       "    .dataframe thead th {\n",
       "        text-align: right;\n",
       "    }\n",
       "</style>\n",
       "<table border=\"1\" class=\"dataframe\">\n",
       "  <thead>\n",
       "    <tr style=\"text-align: right;\">\n",
       "      <th></th>\n",
       "      <th>Country</th>\n",
       "      <th>Description</th>\n",
       "      <th>Designation</th>\n",
       "      <th>Points</th>\n",
       "      <th>Price</th>\n",
       "      <th>Province</th>\n",
       "      <th>Region_1</th>\n",
       "      <th>Region_2</th>\n",
       "      <th>Variety</th>\n",
       "      <th>Winery</th>\n",
       "    </tr>\n",
       "  </thead>\n",
       "  <tbody>\n",
       "    <tr>\n",
       "      <th>9</th>\n",
       "      <td>US</td>\n",
       "      <td>The producer sources from two blocks of the vi...</td>\n",
       "      <td>Gap's Crown Vineyard</td>\n",
       "      <td>95</td>\n",
       "      <td>60.0</td>\n",
       "      <td>California</td>\n",
       "      <td>Sonoma Coast</td>\n",
       "      <td>Sonoma</td>\n",
       "      <td>Pinot Noir</td>\n",
       "      <td>Blue Farm</td>\n",
       "    </tr>\n",
       "    <tr>\n",
       "      <th>11</th>\n",
       "      <td>US</td>\n",
       "      <td>From 18-year-old vines, this supple well-balan...</td>\n",
       "      <td>Estate Vineyard Wadensvil Block</td>\n",
       "      <td>95</td>\n",
       "      <td>48.0</td>\n",
       "      <td>Oregon</td>\n",
       "      <td>Ribbon Ridge</td>\n",
       "      <td>Willamette Valley</td>\n",
       "      <td>Pinot Noir</td>\n",
       "      <td>Patricia Green Cellars</td>\n",
       "    </tr>\n",
       "    <tr>\n",
       "      <th>12</th>\n",
       "      <td>US</td>\n",
       "      <td>A standout even in this terrific lineup of 201...</td>\n",
       "      <td>Weber Vineyard</td>\n",
       "      <td>95</td>\n",
       "      <td>48.0</td>\n",
       "      <td>Oregon</td>\n",
       "      <td>Dundee Hills</td>\n",
       "      <td>Willamette Valley</td>\n",
       "      <td>Pinot Noir</td>\n",
       "      <td>Patricia Green Cellars</td>\n",
       "    </tr>\n",
       "    <tr>\n",
       "      <th>14</th>\n",
       "      <td>US</td>\n",
       "      <td>With its sophisticated mix of mineral, acid an...</td>\n",
       "      <td>Grace Vineyard</td>\n",
       "      <td>95</td>\n",
       "      <td>185.0</td>\n",
       "      <td>Oregon</td>\n",
       "      <td>Dundee Hills</td>\n",
       "      <td>Willamette Valley</td>\n",
       "      <td>Pinot Noir</td>\n",
       "      <td>Domaine Serene</td>\n",
       "    </tr>\n",
       "    <tr>\n",
       "      <th>15</th>\n",
       "      <td>US</td>\n",
       "      <td>First made in 2006, this succulent luscious Ch...</td>\n",
       "      <td>Sigrid</td>\n",
       "      <td>95</td>\n",
       "      <td>90.0</td>\n",
       "      <td>Oregon</td>\n",
       "      <td>Willamette Valley</td>\n",
       "      <td>Willamette Valley</td>\n",
       "      <td>Chardonnay</td>\n",
       "      <td>Bergström</td>\n",
       "    </tr>\n",
       "  </tbody>\n",
       "</table>\n",
       "</div>"
      ],
      "text/plain": [
       "   Country                                        Description  \\\n",
       "9       US  The producer sources from two blocks of the vi...   \n",
       "11      US  From 18-year-old vines, this supple well-balan...   \n",
       "12      US  A standout even in this terrific lineup of 201...   \n",
       "14      US  With its sophisticated mix of mineral, acid an...   \n",
       "15      US  First made in 2006, this succulent luscious Ch...   \n",
       "\n",
       "                        Designation  Points  Price    Province  \\\n",
       "9              Gap's Crown Vineyard      95   60.0  California   \n",
       "11  Estate Vineyard Wadensvil Block      95   48.0      Oregon   \n",
       "12                   Weber Vineyard      95   48.0      Oregon   \n",
       "14                   Grace Vineyard      95  185.0      Oregon   \n",
       "15                           Sigrid      95   90.0      Oregon   \n",
       "\n",
       "             Region_1           Region_2     Variety                  Winery  \n",
       "9        Sonoma Coast             Sonoma  Pinot Noir               Blue Farm  \n",
       "11       Ribbon Ridge  Willamette Valley  Pinot Noir  Patricia Green Cellars  \n",
       "12       Dundee Hills  Willamette Valley  Pinot Noir  Patricia Green Cellars  \n",
       "14       Dundee Hills  Willamette Valley  Pinot Noir          Domaine Serene  \n",
       "15  Willamette Valley  Willamette Valley  Chardonnay               Bergström  "
      ]
     },
     "execution_count": 4,
     "metadata": {},
     "output_type": "execute_result"
    }
   ],
   "source": [
    "wine_analysis_data.head()"
   ]
  },
  {
   "cell_type": "code",
   "execution_count": 5,
   "metadata": {},
   "outputs": [
    {
     "data": {
      "text/plain": [
       "(39237, 10)"
      ]
     },
     "execution_count": 5,
     "metadata": {},
     "output_type": "execute_result"
    }
   ],
   "source": [
    "#-- NUMBER OF ROWS AND COLUMNS\n",
    "wine_analysis_data.shape"
   ]
  },
  {
   "cell_type": "code",
   "execution_count": 6,
   "metadata": {},
   "outputs": [
    {
     "data": {
      "text/html": [
       "<div>\n",
       "<style scoped>\n",
       "    .dataframe tbody tr th:only-of-type {\n",
       "        vertical-align: middle;\n",
       "    }\n",
       "\n",
       "    .dataframe tbody tr th {\n",
       "        vertical-align: top;\n",
       "    }\n",
       "\n",
       "    .dataframe thead th {\n",
       "        text-align: right;\n",
       "    }\n",
       "</style>\n",
       "<table border=\"1\" class=\"dataframe\">\n",
       "  <thead>\n",
       "    <tr style=\"text-align: right;\">\n",
       "      <th></th>\n",
       "      <th>Country</th>\n",
       "      <th>Description</th>\n",
       "      <th>Designation</th>\n",
       "      <th>Points</th>\n",
       "      <th>Price</th>\n",
       "      <th>Province</th>\n",
       "      <th>Region_1</th>\n",
       "      <th>Region_2</th>\n",
       "      <th>Variety</th>\n",
       "      <th>Winery</th>\n",
       "    </tr>\n",
       "  </thead>\n",
       "  <tbody>\n",
       "    <tr>\n",
       "      <th>9</th>\n",
       "      <td>US</td>\n",
       "      <td>The producer sources from two blocks of the vi...</td>\n",
       "      <td>Gap's Crown Vineyard</td>\n",
       "      <td>95</td>\n",
       "      <td>60.0</td>\n",
       "      <td>California</td>\n",
       "      <td>Sonoma Coast</td>\n",
       "      <td>Sonoma</td>\n",
       "      <td>Pinot Noir</td>\n",
       "      <td>Blue Farm</td>\n",
       "    </tr>\n",
       "    <tr>\n",
       "      <th>11</th>\n",
       "      <td>US</td>\n",
       "      <td>From 18-year-old vines, this supple well-balan...</td>\n",
       "      <td>Estate Vineyard Wadensvil Block</td>\n",
       "      <td>95</td>\n",
       "      <td>48.0</td>\n",
       "      <td>Oregon</td>\n",
       "      <td>Ribbon Ridge</td>\n",
       "      <td>Willamette Valley</td>\n",
       "      <td>Pinot Noir</td>\n",
       "      <td>Patricia Green Cellars</td>\n",
       "    </tr>\n",
       "    <tr>\n",
       "      <th>12</th>\n",
       "      <td>US</td>\n",
       "      <td>A standout even in this terrific lineup of 201...</td>\n",
       "      <td>Weber Vineyard</td>\n",
       "      <td>95</td>\n",
       "      <td>48.0</td>\n",
       "      <td>Oregon</td>\n",
       "      <td>Dundee Hills</td>\n",
       "      <td>Willamette Valley</td>\n",
       "      <td>Pinot Noir</td>\n",
       "      <td>Patricia Green Cellars</td>\n",
       "    </tr>\n",
       "    <tr>\n",
       "      <th>14</th>\n",
       "      <td>US</td>\n",
       "      <td>With its sophisticated mix of mineral, acid an...</td>\n",
       "      <td>Grace Vineyard</td>\n",
       "      <td>95</td>\n",
       "      <td>185.0</td>\n",
       "      <td>Oregon</td>\n",
       "      <td>Dundee Hills</td>\n",
       "      <td>Willamette Valley</td>\n",
       "      <td>Pinot Noir</td>\n",
       "      <td>Domaine Serene</td>\n",
       "    </tr>\n",
       "    <tr>\n",
       "      <th>15</th>\n",
       "      <td>US</td>\n",
       "      <td>First made in 2006, this succulent luscious Ch...</td>\n",
       "      <td>Sigrid</td>\n",
       "      <td>95</td>\n",
       "      <td>90.0</td>\n",
       "      <td>Oregon</td>\n",
       "      <td>Willamette Valley</td>\n",
       "      <td>Willamette Valley</td>\n",
       "      <td>Chardonnay</td>\n",
       "      <td>Bergström</td>\n",
       "    </tr>\n",
       "    <tr>\n",
       "      <th>16</th>\n",
       "      <td>US</td>\n",
       "      <td>This blockbuster, powerhouse of a wine suggest...</td>\n",
       "      <td>Rainin Vineyard</td>\n",
       "      <td>95</td>\n",
       "      <td>325.0</td>\n",
       "      <td>California</td>\n",
       "      <td>Diamond Mountain District</td>\n",
       "      <td>Napa</td>\n",
       "      <td>Cabernet Sauvignon</td>\n",
       "      <td>Hall</td>\n",
       "    </tr>\n",
       "    <tr>\n",
       "      <th>19</th>\n",
       "      <td>US</td>\n",
       "      <td>This fresh and lively medium-bodied wine is be...</td>\n",
       "      <td>Gap's Crown Vineyard</td>\n",
       "      <td>95</td>\n",
       "      <td>75.0</td>\n",
       "      <td>California</td>\n",
       "      <td>Sonoma Coast</td>\n",
       "      <td>Sonoma</td>\n",
       "      <td>Pinot Noir</td>\n",
       "      <td>Gary Farrell</td>\n",
       "    </tr>\n",
       "    <tr>\n",
       "      <th>20</th>\n",
       "      <td>US</td>\n",
       "      <td>Heitz has made this stellar rosé from the rare...</td>\n",
       "      <td>Grignolino</td>\n",
       "      <td>95</td>\n",
       "      <td>24.0</td>\n",
       "      <td>California</td>\n",
       "      <td>Napa Valley</td>\n",
       "      <td>Napa</td>\n",
       "      <td>Rosé</td>\n",
       "      <td>Heitz</td>\n",
       "    </tr>\n",
       "    <tr>\n",
       "      <th>23</th>\n",
       "      <td>US</td>\n",
       "      <td>The apogee of this ambitious winery's white wi...</td>\n",
       "      <td>Giallo Solare</td>\n",
       "      <td>95</td>\n",
       "      <td>60.0</td>\n",
       "      <td>California</td>\n",
       "      <td>Edna Valley</td>\n",
       "      <td>Central Coast</td>\n",
       "      <td>Chardonnay</td>\n",
       "      <td>Center of Effort</td>\n",
       "    </tr>\n",
       "    <tr>\n",
       "      <th>24</th>\n",
       "      <td>US</td>\n",
       "      <td>San Jose-based producer Adam Comartin heads 1,...</td>\n",
       "      <td>R-Bar-R Ranch</td>\n",
       "      <td>95</td>\n",
       "      <td>45.0</td>\n",
       "      <td>California</td>\n",
       "      <td>Santa Cruz Mountains</td>\n",
       "      <td>Central Coast</td>\n",
       "      <td>Pinot Noir</td>\n",
       "      <td>Comartin</td>\n",
       "    </tr>\n",
       "  </tbody>\n",
       "</table>\n",
       "</div>"
      ],
      "text/plain": [
       "   Country                                        Description  \\\n",
       "9       US  The producer sources from two blocks of the vi...   \n",
       "11      US  From 18-year-old vines, this supple well-balan...   \n",
       "12      US  A standout even in this terrific lineup of 201...   \n",
       "14      US  With its sophisticated mix of mineral, acid an...   \n",
       "15      US  First made in 2006, this succulent luscious Ch...   \n",
       "16      US  This blockbuster, powerhouse of a wine suggest...   \n",
       "19      US  This fresh and lively medium-bodied wine is be...   \n",
       "20      US  Heitz has made this stellar rosé from the rare...   \n",
       "23      US  The apogee of this ambitious winery's white wi...   \n",
       "24      US  San Jose-based producer Adam Comartin heads 1,...   \n",
       "\n",
       "                        Designation  Points  Price    Province  \\\n",
       "9              Gap's Crown Vineyard      95   60.0  California   \n",
       "11  Estate Vineyard Wadensvil Block      95   48.0      Oregon   \n",
       "12                   Weber Vineyard      95   48.0      Oregon   \n",
       "14                   Grace Vineyard      95  185.0      Oregon   \n",
       "15                           Sigrid      95   90.0      Oregon   \n",
       "16                  Rainin Vineyard      95  325.0  California   \n",
       "19             Gap's Crown Vineyard      95   75.0  California   \n",
       "20                       Grignolino      95   24.0  California   \n",
       "23                    Giallo Solare      95   60.0  California   \n",
       "24                    R-Bar-R Ranch      95   45.0  California   \n",
       "\n",
       "                     Region_1           Region_2             Variety  \\\n",
       "9                Sonoma Coast             Sonoma          Pinot Noir   \n",
       "11               Ribbon Ridge  Willamette Valley          Pinot Noir   \n",
       "12               Dundee Hills  Willamette Valley          Pinot Noir   \n",
       "14               Dundee Hills  Willamette Valley          Pinot Noir   \n",
       "15          Willamette Valley  Willamette Valley          Chardonnay   \n",
       "16  Diamond Mountain District               Napa  Cabernet Sauvignon   \n",
       "19               Sonoma Coast             Sonoma          Pinot Noir   \n",
       "20                Napa Valley               Napa                Rosé   \n",
       "23                Edna Valley      Central Coast          Chardonnay   \n",
       "24       Santa Cruz Mountains      Central Coast          Pinot Noir   \n",
       "\n",
       "                    Winery  \n",
       "9                Blue Farm  \n",
       "11  Patricia Green Cellars  \n",
       "12  Patricia Green Cellars  \n",
       "14          Domaine Serene  \n",
       "15               Bergström  \n",
       "16                    Hall  \n",
       "19            Gary Farrell  \n",
       "20                   Heitz  \n",
       "23        Center of Effort  \n",
       "24                Comartin  "
      ]
     },
     "execution_count": 6,
     "metadata": {},
     "output_type": "execute_result"
    }
   ],
   "source": [
    "#-- DISPLAYING FIRST TEN(10) RECORDS\n",
    "wine_analysis_data[0:10]\n",
    "#-- OR\n",
    "#wine_analysis_data.head(10)"
   ]
  },
  {
   "cell_type": "code",
   "execution_count": 41,
   "metadata": {},
   "outputs": [
    {
     "name": "stdout",
     "output_type": "stream",
     "text": [
      "<class 'pandas.core.frame.DataFrame'>\n",
      "Int64Index: 39238 entries, 8 to 150916\n",
      "Data columns (total 10 columns):\n",
      "Country        39238 non-null object\n",
      "Description    39238 non-null object\n",
      "Designation    39238 non-null object\n",
      "Points         39238 non-null int64\n",
      "Price          39238 non-null float64\n",
      "Province       39238 non-null object\n",
      "Region_1       39238 non-null object\n",
      "Region_2       39238 non-null object\n",
      "Variety        39238 non-null object\n",
      "Winery         39238 non-null object\n",
      "dtypes: float64(1), int64(1), object(8)\n",
      "memory usage: 3.3+ MB\n"
     ]
    }
   ],
   "source": [
    "wine_analysis_data.info()"
   ]
  },
  {
   "cell_type": "code",
   "execution_count": 7,
   "metadata": {},
   "outputs": [
    {
     "data": {
      "text/plain": [
       "Country        False\n",
       "Description    False\n",
       "Designation    False\n",
       "Points         False\n",
       "Price          False\n",
       "Province       False\n",
       "Region_1       False\n",
       "Region_2       False\n",
       "Variety        False\n",
       "Winery         False\n",
       "dtype: bool"
      ]
     },
     "execution_count": 7,
     "metadata": {},
     "output_type": "execute_result"
    }
   ],
   "source": [
    "#-- THIS CODE CHECKS WHICH COLUMN HAS NULL VALUES\n",
    "wine_analysis_data.isnull().any()"
   ]
  },
  {
   "cell_type": "code",
   "execution_count": 2,
   "metadata": {},
   "outputs": [
    {
     "ename": "NameError",
     "evalue": "name 'wine_analysis_data' is not defined",
     "output_type": "error",
     "traceback": [
      "\u001b[1;31m---------------------------------------------------------------------------\u001b[0m",
      "\u001b[1;31mNameError\u001b[0m                                 Traceback (most recent call last)",
      "\u001b[1;32m<ipython-input-2-fe78454e30a0>\u001b[0m in \u001b[0;36m<module>\u001b[1;34m\u001b[0m\n\u001b[0;32m      2\u001b[0m \u001b[1;31m#wine_analysis_data['Region_2']\u001b[0m\u001b[1;33m\u001b[0m\u001b[1;33m\u001b[0m\u001b[1;33m\u001b[0m\u001b[0m\n\u001b[0;32m      3\u001b[0m \u001b[1;33m\u001b[0m\u001b[0m\n\u001b[1;32m----> 4\u001b[1;33m \u001b[0mwine_analysis_data\u001b[0m\u001b[1;33m.\u001b[0m\u001b[0mloc\u001b[0m\u001b[1;33m[\u001b[0m\u001b[1;36m1\u001b[0m\u001b[1;33m:\u001b[0m\u001b[0mwine_analysis_data\u001b[0m\u001b[1;33m.\u001b[0m\u001b[0mshape\u001b[0m\u001b[1;33m[\u001b[0m\u001b[1;36m0\u001b[0m\u001b[1;33m]\u001b[0m\u001b[1;33m]\u001b[0m\u001b[1;33m.\u001b[0m\u001b[0misnull\u001b[0m\u001b[1;33m(\u001b[0m\u001b[1;33m)\u001b[0m\u001b[1;33m\u001b[0m\u001b[1;33m\u001b[0m\u001b[0m\n\u001b[0m",
      "\u001b[1;31mNameError\u001b[0m: name 'wine_analysis_data' is not defined"
     ]
    }
   ],
   "source": [
    "#wine_analysis_data[wine_analysis_data['Region_2'].isnull()]\n",
    "#wine_analysis_data['Region_2']\n",
    "\n",
    "wine_analysis_data.loc[1:wine_analysis_data.shape[0]].isnull()"
   ]
  },
  {
   "cell_type": "code",
   "execution_count": 9,
   "metadata": {},
   "outputs": [
    {
     "data": {
      "text/plain": [
       "Country        0\n",
       "Description    0\n",
       "Designation    0\n",
       "Points         0\n",
       "Price          0\n",
       "Province       0\n",
       "Region_1       0\n",
       "Region_2       0\n",
       "Variety        0\n",
       "Winery         0\n",
       "dtype: int64"
      ]
     },
     "execution_count": 9,
     "metadata": {},
     "output_type": "execute_result"
    }
   ],
   "source": [
    "wine_analysis_data.isnull().sum()"
   ]
  },
  {
   "cell_type": "code",
   "execution_count": 10,
   "metadata": {},
   "outputs": [
    {
     "data": {
      "text/html": [
       "<div>\n",
       "<style scoped>\n",
       "    .dataframe tbody tr th:only-of-type {\n",
       "        vertical-align: middle;\n",
       "    }\n",
       "\n",
       "    .dataframe tbody tr th {\n",
       "        vertical-align: top;\n",
       "    }\n",
       "\n",
       "    .dataframe thead th {\n",
       "        text-align: right;\n",
       "    }\n",
       "</style>\n",
       "<table border=\"1\" class=\"dataframe\">\n",
       "  <thead>\n",
       "    <tr style=\"text-align: right;\">\n",
       "      <th></th>\n",
       "      <th>Country</th>\n",
       "      <th>Description</th>\n",
       "      <th>Designation</th>\n",
       "      <th>Points</th>\n",
       "      <th>Price</th>\n",
       "      <th>Province</th>\n",
       "      <th>Region_1</th>\n",
       "      <th>Region_2</th>\n",
       "      <th>Variety</th>\n",
       "      <th>Winery</th>\n",
       "    </tr>\n",
       "  </thead>\n",
       "  <tbody>\n",
       "  </tbody>\n",
       "</table>\n",
       "</div>"
      ],
      "text/plain": [
       "Empty DataFrame\n",
       "Columns: [Country, Description, Designation, Points, Price, Province, Region_1, Region_2, Variety, Winery]\n",
       "Index: []"
      ]
     },
     "execution_count": 10,
     "metadata": {},
     "output_type": "execute_result"
    }
   ],
   "source": [
    "#-- CHECKING FOR ALL NULL VALUES IN THE COUNTRY COLUMN\n",
    "wine_analysis_data[wine_analysis_data['Country'].isnull()]"
   ]
  },
  {
   "cell_type": "code",
   "execution_count": 46,
   "metadata": {},
   "outputs": [],
   "source": [
    "#-- DROPPING ALL NULL VALUES IN THE COUNTRY COLUMN\n",
    "wine_analysis_data = wine_analysis_data.dropna(subset=['Country'])"
   ]
  },
  {
   "cell_type": "code",
   "execution_count": 47,
   "metadata": {},
   "outputs": [
    {
     "data": {
      "text/html": [
       "<div>\n",
       "<style scoped>\n",
       "    .dataframe tbody tr th:only-of-type {\n",
       "        vertical-align: middle;\n",
       "    }\n",
       "\n",
       "    .dataframe tbody tr th {\n",
       "        vertical-align: top;\n",
       "    }\n",
       "\n",
       "    .dataframe thead th {\n",
       "        text-align: right;\n",
       "    }\n",
       "</style>\n",
       "<table border=\"1\" class=\"dataframe\">\n",
       "  <thead>\n",
       "    <tr style=\"text-align: right;\">\n",
       "      <th></th>\n",
       "      <th>Country</th>\n",
       "      <th>Description</th>\n",
       "      <th>Designation</th>\n",
       "      <th>Points</th>\n",
       "      <th>Price</th>\n",
       "      <th>Province</th>\n",
       "      <th>Region_1</th>\n",
       "      <th>Region_2</th>\n",
       "      <th>Variety</th>\n",
       "      <th>Winery</th>\n",
       "    </tr>\n",
       "  </thead>\n",
       "  <tbody>\n",
       "  </tbody>\n",
       "</table>\n",
       "</div>"
      ],
      "text/plain": [
       "Empty DataFrame\n",
       "Columns: [Country, Description, Designation, Points, Price, Province, Region_1, Region_2, Variety, Winery]\n",
       "Index: []"
      ]
     },
     "execution_count": 47,
     "metadata": {},
     "output_type": "execute_result"
    }
   ],
   "source": [
    "#-- DONE\n",
    "wine_analysis_data[wine_analysis_data[\"Country\"].isnull()]"
   ]
  },
  {
   "cell_type": "code",
   "execution_count": 11,
   "metadata": {},
   "outputs": [
    {
     "data": {
      "text/plain": [
       "(39237, 10)"
      ]
     },
     "execution_count": 11,
     "metadata": {},
     "output_type": "execute_result"
    }
   ],
   "source": [
    "wine_analysis_data.shape"
   ]
  },
  {
   "cell_type": "code",
   "execution_count": 49,
   "metadata": {},
   "outputs": [
    {
     "data": {
      "text/plain": [
       "Country        0\n",
       "Description    0\n",
       "Designation    0\n",
       "Points         0\n",
       "Price          0\n",
       "Province       0\n",
       "Region_1       0\n",
       "Region_2       0\n",
       "Variety        0\n",
       "Winery         0\n",
       "dtype: int64"
      ]
     },
     "execution_count": 49,
     "metadata": {},
     "output_type": "execute_result"
    }
   ],
   "source": [
    "wine_analysis_data.isnull().sum()"
   ]
  },
  {
   "cell_type": "code",
   "execution_count": 50,
   "metadata": {},
   "outputs": [],
   "source": [
    "#-- CLEARING ALL NULL VALUES IN DATA SET\n",
    "wine_analysis_data = wine_analysis_data.dropna(subset=['Designation'])"
   ]
  },
  {
   "cell_type": "code",
   "execution_count": 51,
   "metadata": {},
   "outputs": [],
   "source": [
    "wine_analysis_data = wine_analysis_data.dropna(subset=['Price'])"
   ]
  },
  {
   "cell_type": "code",
   "execution_count": 52,
   "metadata": {},
   "outputs": [],
   "source": [
    "wine_analysis_data = wine_analysis_data.dropna(subset=['Region_1'])"
   ]
  },
  {
   "cell_type": "code",
   "execution_count": 53,
   "metadata": {},
   "outputs": [],
   "source": [
    "wine_analysis_data = wine_analysis_data.dropna(subset=['Region_2'])"
   ]
  },
  {
   "cell_type": "code",
   "execution_count": 54,
   "metadata": {},
   "outputs": [
    {
     "data": {
      "text/plain": [
       "39238"
      ]
     },
     "execution_count": 54,
     "metadata": {},
     "output_type": "execute_result"
    }
   ],
   "source": [
    "#-- CHECK FOR THE NUMBER OF ONLY ROWS IN THE DATASET\n",
    "wine_analysis_data.shape[-2]"
   ]
  },
  {
   "cell_type": "code",
   "execution_count": 55,
   "metadata": {},
   "outputs": [],
   "source": [
    "#-- SAVING THE MODIFIED CONTENT TO THE CSV FILE\n",
    "wine_analysis_data.to_csv('winemag-data.csv')"
   ]
  },
  {
   "cell_type": "code",
   "execution_count": 56,
   "metadata": {},
   "outputs": [
    {
     "data": {
      "text/plain": [
       "(39238, 10)"
      ]
     },
     "execution_count": 56,
     "metadata": {},
     "output_type": "execute_result"
    }
   ],
   "source": [
    "#-- TO CHECK THE NUMBER OF ROWS AND COLUMNS IN THE DATASET\n",
    "wine_analysis_data.shape"
   ]
  },
  {
   "cell_type": "code",
   "execution_count": 57,
   "metadata": {},
   "outputs": [
    {
     "data": {
      "text/plain": [
       "Points     3.438024\n",
       "Price     26.697293\n",
       "dtype: float64"
      ]
     },
     "execution_count": 57,
     "metadata": {},
     "output_type": "execute_result"
    }
   ],
   "source": [
    "#-- FINDING THE STANDARD DEVIATION OF THE DATASET\n",
    "wine_analysis_data.std()"
   ]
  },
  {
   "cell_type": "code",
   "execution_count": 58,
   "metadata": {},
   "outputs": [
    {
     "data": {
      "image/png": "[encoded data removed]",
      "text/plain": [
       "<Figure size 432x288 with 1 Axes>"
      ]
     },
     "metadata": {
      "needs_background": "light"
     },
     "output_type": "display_data"
    }
   ],
   "source": [
    "x1 = list(wine_analysis_data.index)\n",
    "y1 = list(wine_analysis_data['Price'])\n",
    "\n",
    "plt.plot(x1,y1)\n",
    "plt.grid(True)\n",
    "plt.show()"
   ]
  },
  {
   "cell_type": "code",
   "execution_count": 62,
   "metadata": {},
   "outputs": [
    {
     "data": {
      "image/png": "[encoded data removed]",
      "text/plain": [
       "<Figure size 432x288 with 1 Axes>"
      ]
     },
     "metadata": {
      "needs_background": "light"
     },
     "output_type": "display_data"
    }
   ],
   "source": [
    "# wine_analysis_data['Province'].value_counts().head(10).plot.pie\n",
    "# plt.show()\n",
    "\n",
    "plt.plot(wine_analysis_data.index[1:10],wine_analysis_data.Price[1:10])\n",
    "plt.show()"
   ]
  },
  {
   "cell_type": "code",
   "execution_count": 65,
   "metadata": {},
   "outputs": [
    {
     "data": {
      "text/plain": [
       "<matplotlib.axes._subplots.AxesSubplot at 0x25798d49cc0>"
      ]
     },
     "execution_count": 65,
     "metadata": {},
     "output_type": "execute_result"
    },
    {
     "data": {
      "image/png": "[encoded data removed]",
      "text/plain": [
       "<Figure size 432x288 with 1 Axes>"
      ]
     },
     "metadata": {
      "needs_background": "light"
     },
     "output_type": "display_data"
    }
   ],
   "source": [
    "import seaborn as sb\n",
    "\n",
    "sb.countplot(wine_analysis_data['Country'].head(10))"
   ]
  },
  {
   "cell_type": "code",
   "execution_count": null,
   "metadata": {},
   "outputs": [],
   "source": []
  }
 ],
 "metadata": {
  "kernelspec": {
   "display_name": "Python 3",
   "language": "python",
   "name": "python3"
  },
  "language_info": {
   "codemirror_mode": {
    "name": "ipython",
    "version": 3
   },
   "file_extension": ".py",
   "mimetype": "text/x-python",
   "name": "python",
   "nbconvert_exporter": "python",
   "pygments_lexer": "ipython3",
   "version": "3.7.3"
  }
 },
 "nbformat": 4,
 "nbformat_minor": 2
}
